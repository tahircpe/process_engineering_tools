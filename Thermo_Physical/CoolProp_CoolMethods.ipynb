{
 "cells": [
  {
   "cell_type": "markdown",
   "metadata": {},
   "source": [
    "# CoolProp — A Cool Package for Thermophysical Properties\n",
    "\n",
    "![CoolProp](http://www.coolprop.org/_static/CoolPropLogo.png \"CoolProp\")\n",
    "\n",
    "\n",
    "[CoolProp](http://www.coolprop.org/index.html) is a thermophysical property database which is available under MIT License as a free software. It has a databank of 122 components with thermodynamic and transport properties for pure components and their mixture. The components available in CoolProp are [listed here](http://www.coolprop.org/fluid_properties/PurePseudoPure.html#list-of-fluids). \n",
    "\n",
    "[CoolProp](http://www.coolprop.org/index.html) is developed as a C++ library. It has an interface available for several of the popular programming languages in the form of wrappers, such as Python, Modelica, Octave, MathCAD, and MATLAB. A complete list of available wrappers is [listed here](http://www.coolprop.org/coolprop/wrappers/index.html).\n",
    "\n",
    "## Python wrapper\n",
    "Here the use of Python wrapper is described which can be which can be installed using the `pip` package installation tool as\n",
    "\n",
    "```bat\n",
    "> pip install CoolProp\n",
    "```\n",
    "\n",
    "For the conda package manager it can be installed using\n",
    "\n",
    "```bat\n",
    "> conda install CoolProp\n",
    "```\n",
    "\n",
    "Before the wrapper install the system needs to have following requirements installed:\n",
    "\n",
    "- Python (2.x 3.x)\n",
    "- CMake (platform-independent software to generate makefiles)\n",
    "- C++ compiler\n",
    "- 7-zip\n",
    "\n",
    "Microsoft Visual C++ Build Tools 2015 is required as C++ compiler for the latest [CoolProp 6.1.0](https://pypi.org/search/?q=coolprop) and Python 3.6. More details about the prerequisites for the Python wrapper can be found [here](http://www.coolprop.org/coolprop/wrappers/index.html). If the installer fails due to error *building wheel fails* try the following methods of install using that uses the latest release from the development server:\n",
    "\n",
    "```bat\n",
    "> pip install -vvv --pre --trusted-host www.coolprop.dreamhosters.com --find-links http://www.coolprop.dreamhosters.com/binaries/Python/ -U --force-reinstall CoolProp\n",
    "```\n",
    "\n",
    "Python wrapper has two types of interfaces available:\n",
    "\n",
    "- High-level interface\n",
    "- Low-level interface\n"
   ]
  },
  {
   "cell_type": "markdown",
   "metadata": {},
   "source": [
    "## High-level interface\n",
    "\n",
    "The high-level interface offers an easy to use interface to get thermophysical properties. The high-level interface is provided using `PropsSI` function and it can be used to get properties for pure fluids, pseudo-pure fluids, and mixtures. `PropsSI` function is imported as follows:"
   ]
  },
  {
   "cell_type": "code",
   "execution_count": 1,
   "metadata": {},
   "outputs": [],
   "source": [
    "from CoolProp.CoolProp import PropsSI"
   ]
  },
  {
   "cell_type": "markdown",
   "metadata": {},
   "source": [
    "### Pure component properties\n",
    "Following examples showcase the use of `PropsSI` function to get pure component properties. The input format follows a generic template, a name of the parameter to be determined, followed by at least two of the state properties and the name of the component.\n",
    "\n",
    "> **All the inputs are in SI units**\n",
    "\n",
    "#### Example:\n",
    "The boiling point of Ethanol at atmospheric pressure"
   ]
  },
  {
   "cell_type": "code",
   "execution_count": 2,
   "metadata": {},
   "outputs": [
    {
     "name": "stdout",
     "output_type": "stream",
     "text": [
      "Boiling point 351.570 K\n"
     ]
    }
   ],
   "source": [
    "Tb = PropsSI('T', 'P', 101325, 'Q', 0, 'Ethanol')\n",
    "print('Boiling point {0:.3f} K'.format(Tb))"
   ]
  },
  {
   "cell_type": "markdown",
   "metadata": {},
   "source": [
    "The density of Ethanol at 320 K and atmospheric pressure"
   ]
  },
  {
   "cell_type": "code",
   "execution_count": 3,
   "metadata": {},
   "outputs": [
    {
     "name": "stdout",
     "output_type": "stream",
     "text": [
      "Mass Density is 766.014 kg/m^3\n",
      "Molar Density is 16627.741 mole/m^3\n"
     ]
    }
   ],
   "source": [
    "mass_D = PropsSI('Dmass', 'T', 320, 'P', 101325, 'Ethanol')\n",
    "print('Mass Density is {0:.3f} kg/m^3'.format(mass_D))\n",
    "mole_D = PropsSI('Dmolar', 'T', 320, 'P', 101325, 'Ethanol')\n",
    "print('Molar Density is {0:.3f} mole/m^3'.format(mole_D))"
   ]
  },
  {
   "cell_type": "markdown",
   "metadata": {},
   "source": [
    "Full list of paramteres availble can is given [here](http://www.coolprop.org/coolprop/HighLevelAPI.html#table-of-string-inputs-to-propssi-function)."
   ]
  },
  {
   "cell_type": "markdown",
   "metadata": {},
   "source": [
    "### Mixture properties\n",
    "\n",
    "Mixtures require an additional input of compositions to completely define the thermodynamic state. The composition input is made using the following string format:\n",
    "\n",
    "`HESO::Name[Mole Fraction]&Name[Mole Fraction]&...` \n",
    "\n",
    "Component name and [mole fractions] combinations joined by '&'.\n",
    "\n",
    "#### Example:\n",
    "The boiling point of Ethanol and Water mixture at atmospheric pressure:"
   ]
  },
  {
   "cell_type": "code",
   "execution_count": 4,
   "metadata": {},
   "outputs": [
    {
     "name": "stdout",
     "output_type": "stream",
     "text": [
      "Boiling point Ethanol/Water mixture 356.224 K\n"
     ]
    }
   ],
   "source": [
    "Tb = PropsSI('T', 'P', 101325, 'Q', 0, 'HEOS::Ethanol[0.20]&Water[0.80]')\n",
    "print('Boiling point Ethanol/Water mixture {0:.3f} K'.format(Tb))"
   ]
  },
  {
   "cell_type": "markdown",
   "metadata": {},
   "source": [
    "Transport properties of Ethanol and Water mixture at 320 K and atmospheric pressure:"
   ]
  },
  {
   "cell_type": "code",
   "execution_count": 5,
   "metadata": {},
   "outputs": [
    {
     "name": "stdout",
     "output_type": "stream",
     "text": [
      "Dynamic viscosity of Ethanol/Water mixture 7.259e-04 Pa s\n",
      "Thermal conductivity of Ethanol/Water mixture 7.344e-01 W/m/K\n"
     ]
    }
   ],
   "source": [
    "composition = 'HEOS::Ethanol[0.20]&Water[0.80]'\n",
    "vis = PropsSI('V', 'T', 320, 'P', 101325, composition)\n",
    "print('Dynamic viscosity of Ethanol/Water mixture {0:.3e} Pa s'.format(vis))\n",
    "cond = PropsSI('L', 'T', 320, 'P', 101325, composition)\n",
    "print('Thermal conductivity of Ethanol/Water mixture {0:.3e} W/m/K'.format(cond))"
   ]
  },
  {
   "cell_type": "markdown",
   "metadata": {},
   "source": [
    "## Low-level interface\n",
    "\n",
    "Low-level interface comes in handy when multiple property parameters are required. It works by defining a single system and its state and use `keyed_output` function to return paramter values. In principle, one can iterate over several [parameter keys](http://www.coolprop.org/_static/doxygen/html/namespace_cool_prop.html#a4b49eeb37210a720b188f493955d8364) to get their values. The state of the system can be defined using any of the [`input_pairs`](http://www.coolprop.org/_static/doxygen/html/namespace_cool_prop.html#a58e7d98861406dedb48e07f551a61efb).\n",
    "\n",
    "#### Example\n",
    "Following example illustrates the use of low-level interface to get multiple properties of Ethanol and Water mixture.\n",
    "\n",
    "Define the system:"
   ]
  },
  {
   "cell_type": "code",
   "execution_count": 3,
   "metadata": {},
   "outputs": [],
   "source": [
    "import CoolProp\n",
    "system = CoolProp.AbstractState(\"HEOS\",'Ethanol&Water')"
   ]
  },
  {
   "cell_type": "markdown",
   "metadata": {},
   "source": [
    "Define the composition:"
   ]
  },
  {
   "cell_type": "code",
   "execution_count": 7,
   "metadata": {},
   "outputs": [],
   "source": [
    "system.set_mole_fractions([0.2,0.8])"
   ]
  },
  {
   "cell_type": "markdown",
   "metadata": {},
   "source": [
    "Define the state"
   ]
  },
  {
   "cell_type": "code",
   "execution_count": 8,
   "metadata": {},
   "outputs": [],
   "source": [
    "system.update(CoolProp.PT_INPUTS, 101325, 320)"
   ]
  },
  {
   "cell_type": "markdown",
   "metadata": {},
   "source": [
    "Iterate over `keyed_output` to get multiple properties"
   ]
  },
  {
   "cell_type": "code",
   "execution_count": 9,
   "metadata": {},
   "outputs": [
    {
     "name": "stdout",
     "output_type": "stream",
     "text": [
      "Mass enthalpy\t69851.271\n",
      "\n",
      "Molar enthalpy\t1650.299\n",
      "\n",
      "Viscosity\t0.001\n",
      "\n",
      "Thermal conductivity\t0.734\n",
      "\n"
     ]
    }
   ],
   "source": [
    "names = ['Mass enthalpy', 'Molar enthalpy', 'Viscosity', 'Thermal conductivity'] \n",
    "parameters = [system.keyed_output(k) for k in [CoolProp.iHmass, CoolProp.iHmolar, CoolProp.iviscosity, CoolProp.iconductivity ]]\n",
    "\n",
    "for i in range(len(names)):\n",
    "    print(names[i]+ '\\t{0:0.3f}\\n'.format(parameters[i]))"
   ]
  },
  {
   "cell_type": "markdown",
   "metadata": {},
   "source": [
    "## Summary\n",
    "\n",
    "The methods described above demonstrate the use of CoolProp tool to get thermophysical properties using the two interface methods, namely, high-level interface and low-level interface. Its utility is in developing process and equipment models when detailed thermophysical properties are required. The great thing about CoolProp is that its free of cost and it has an easy to use interface. These are the reasons CoolProp is gaining popularaity among academic and industrial applications."
   ]
  }
 ],
 "metadata": {
  "kernelspec": {
   "display_name": "Python 3",
   "language": "python",
   "name": "python3"
  },
  "language_info": {
   "codemirror_mode": {
    "name": "ipython",
    "version": 3
   },
   "file_extension": ".py",
   "mimetype": "text/x-python",
   "name": "python",
   "nbconvert_exporter": "python",
   "pygments_lexer": "ipython3",
   "version": "3.6.3"
  }
 },
 "nbformat": 4,
 "nbformat_minor": 2
}
